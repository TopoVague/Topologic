{
 "cells": [
  {
   "cell_type": "code",
   "execution_count": 1,
   "id": "e474680e",
   "metadata": {},
   "outputs": [],
   "source": [
    "#import sys # This is not needed on your machine. Please comment out.\n",
    "#sys.path.append(\"C:/Users/panta/Documents/GitHub/\") # This is not needed on your machine. Please comment out."
   ]
  },
  {
   "cell_type": "markdown",
   "id": "b8bbe7ba",
   "metadata": {},
   "source": [
    "## Import the topologicpy classes"
   ]
  },
  {
   "cell_type": "code",
   "execution_count": 5,
   "id": "d88f9e61",
   "metadata": {},
   "outputs": [],
   "source": [
    "from topologicpy.Vertex import Vertex\n",
    "from topologicpy.Edge import Edge\n",
    "from topologicpy.Wire import Wire\n",
    "from topologicpy.Face import Face\n",
    "from topologicpy.Shell import Shell\n",
    "from topologicpy.Cell import Cell\n",
    "from topologicpy.CellComplex import CellComplex\n",
    "from topologicpy.Cluster import Cluster\n",
    "from topologicpy.Topology import Topology\n",
    "from topologicpy.Dictionary import Dictionary\n",
    "from topologicpy.Graph import Graph\n",
    "from topologicpy.Plotly import Plotly"
   ]
  },
  {
   "cell_type": "markdown",
   "id": "2cbc74e4",
   "metadata": {},
   "source": [
    "## Create the basic building geometry and doors"
   ]
  },
  {
   "cell_type": "code",
   "execution_count": 6,
   "id": "3e6769f7",
   "metadata": {},
   "outputs": [],
   "source": [
    "r1 = Cell.Prism(origin=Vertex.ByCoordinates(0,4.5,0), width=3, length=7.5, height=3, placement=\"lowerleft\")\n",
    "r2 = Cell.Prism(origin=Vertex.ByCoordinates(0,0,0), width=3, length=4.5, height=3, placement=\"lowerleft\")\n",
    "r3 = Cell.Prism(origin=Vertex.ByCoordinates(3,7.5,0), width=3, length=4.5, height=3, placement=\"lowerleft\")\n",
    "r4 = Cell.Prism(origin=Vertex.ByCoordinates(3,0,0), width=3, length=7.5, height=3, placement=\"lowerleft\")\n",
    "r5 = Cell.Prism(origin=Vertex.ByCoordinates(6,6,0), width=3, length=6, height=3, placement=\"lowerleft\")\n",
    "r6 = Cell.Prism(origin=Vertex.ByCoordinates(6,0,0), width=3, length=6, height=3, placement=\"lowerleft\")\n",
    "r7 = Cell.Prism(origin=Vertex.ByCoordinates(9,7.5,0), width=3, length=4.5, height=3, placement=\"lowerleft\")\n",
    "r8 = Cell.Prism(origin=Vertex.ByCoordinates(9,3,0), width=3, length=4.5, height=3, placement=\"lowerleft\")\n",
    "r9 = Cell.Prism(origin=Vertex.ByCoordinates(12,3,0), width=3, length=9, height=3, placement=\"lowerleft\")\n",
    "r10 = Cell.Prism(origin=Vertex.ByCoordinates(9,0,0), width=6, length=3, height=3, placement=\"lowerleft\")\n",
    "doorA = Face.Rectangle(width=0.9, length=2.1, placement=\"lowerleft\")\n",
    "doorA = Topology.Rotate(doorA, x=1, y=0, z=0, degree=90)\n",
    "doorA = Topology.Rotate(doorA, x=0, y=0, z=1, degree=90)\n",
    "doorA = Topology.Translate(doorA, x=0, y=-0.45, z=0.05)\n",
    "doorB = Topology.Rotate(doorA, x=0, y=0, z=1, degree=90)\n",
    "d1 = Topology.Place(doorA, originA=Vertex.Origin(), originB=Vertex.ByCoordinates(3, 6, 0))\n",
    "d2 = Topology.Place(doorA, originA=Vertex.Origin(), originB=Vertex.ByCoordinates(6, 3, 0))\n",
    "d3 = Topology.Place(doorA, originA=Vertex.Origin(), originB=Vertex.ByCoordinates(6, 6.75, 0))\n",
    "d4 = Topology.Place(doorA, originA=Vertex.Origin(), originB=Vertex.ByCoordinates(6, 9, 0))\n",
    "d5 = Topology.Place(doorA, originA=Vertex.Origin(), originB=Vertex.ByCoordinates(9, 4.5, 0))\n",
    "d6 = Topology.Place(doorA, originA=Vertex.Origin(), originB=Vertex.ByCoordinates(9, 6.75, 0))\n",
    "d7 = Topology.Place(doorA, originA=Vertex.Origin(), originB=Vertex.ByCoordinates(9, 9, 0))\n",
    "d8 = Topology.Place(doorA, originA=Vertex.Origin(), originB=Vertex.ByCoordinates(12, 6, 0))\n",
    "d9 = Topology.Place(doorA, originA=Vertex.Origin(), originB=Vertex.ByCoordinates(12, 9, 0))\n",
    "d10 = Topology.Place(doorB, originA=Vertex.Origin(), originB=Vertex.ByCoordinates(1.5, 4.5, 0))\n",
    "d11 = Topology.Place(doorB, originA=Vertex.Origin(), originB=Vertex.ByCoordinates(13.5, 3, 0))\n",
    "Topology.Show(r1,r2,r3,r4,r5,r6,r7,r8,r9,r10,d1,d2,d3,d4,d5,d6,d7,d8,d9,d10,d11, renderer='browser')"
   ]
  },
  {
   "cell_type": "markdown",
   "id": "91798917",
   "metadata": {},
   "source": [
    "## Create the CellComplex from the rooms and add doors as apertures"
   ]
  },
  {
   "cell_type": "code",
   "execution_count": 7,
   "id": "e45def42",
   "metadata": {},
   "outputs": [
    {
     "ename": "TypeError",
     "evalue": "cannot unpack non-iterable NoneType object",
     "output_type": "error",
     "traceback": [
      "\u001b[1;31m---------------------------------------------------------------------------\u001b[0m",
      "\u001b[1;31mTypeError\u001b[0m                                 Traceback (most recent call last)",
      "Cell \u001b[1;32mIn[7], line 3\u001b[0m\n\u001b[0;32m      1\u001b[0m building \u001b[38;5;241m=\u001b[39m CellComplex\u001b[38;5;241m.\u001b[39mByCells([r1,r2,r3,r4,r5,r6,r7,r8,r9,r10])\n\u001b[0;32m      2\u001b[0m doors \u001b[38;5;241m=\u001b[39m [d1,d2,d3,d4,d5,d6,d7,d8,d9,d10,d11]\n\u001b[1;32m----> 3\u001b[0m building \u001b[38;5;241m=\u001b[39m \u001b[43mTopology\u001b[49m\u001b[38;5;241;43m.\u001b[39;49m\u001b[43mAddApertures\u001b[49m\u001b[43m(\u001b[49m\u001b[43mbuilding\u001b[49m\u001b[43m,\u001b[49m\u001b[43m \u001b[49m\u001b[43mdoors\u001b[49m\u001b[43m,\u001b[49m\u001b[43m \u001b[49m\u001b[43mexclusive\u001b[49m\u001b[38;5;241;43m=\u001b[39;49m\u001b[38;5;28;43;01mTrue\u001b[39;49;00m\u001b[43m,\u001b[49m\u001b[43m \u001b[49m\u001b[43msubTopologyType\u001b[49m\u001b[38;5;241;43m=\u001b[39;49m\u001b[38;5;124;43m\"\u001b[39;49m\u001b[38;5;124;43mface\u001b[39;49m\u001b[38;5;124;43m\"\u001b[39;49m\u001b[43m,\u001b[49m\u001b[43mtolerance\u001b[49m\u001b[38;5;241;43m=\u001b[39;49m\u001b[38;5;241;43m0.001\u001b[39;49m\u001b[43m)\u001b[49m\n\u001b[0;32m      4\u001b[0m Topology\u001b[38;5;241m.\u001b[39mShow(building, doors)\n",
      "File \u001b[1;32m~\\.conda\\envs\\topologic_py310\\lib\\site-packages\\topologicpy\\Topology.py:269\u001b[0m, in \u001b[0;36mTopology.AddApertures\u001b[1;34m(topology, apertures, exclusive, subTopologyType, tolerance)\u001b[0m\n\u001b[0;32m    267\u001b[0m \u001b[38;5;28;01melse\u001b[39;00m:\n\u001b[0;32m    268\u001b[0m     subTopologies \u001b[38;5;241m=\u001b[39m Topology\u001b[38;5;241m.\u001b[39mSubTopologies(topology, subTopologyType)\n\u001b[1;32m--> 269\u001b[0m \u001b[43mprocessApertures\u001b[49m\u001b[43m(\u001b[49m\u001b[43msubTopologies\u001b[49m\u001b[43m,\u001b[49m\u001b[43m \u001b[49m\u001b[43mapertures\u001b[49m\u001b[43m,\u001b[49m\u001b[43m \u001b[49m\u001b[43mexclusive\u001b[49m\u001b[43m,\u001b[49m\u001b[43m \u001b[49m\u001b[43mtolerance\u001b[49m\u001b[43m)\u001b[49m\n\u001b[0;32m    270\u001b[0m \u001b[38;5;28;01mreturn\u001b[39;00m topology\n",
      "File \u001b[1;32m~\\.conda\\envs\\topologic_py310\\lib\\site-packages\\topologicpy\\Topology.py:236\u001b[0m, in \u001b[0;36mTopology.AddApertures.<locals>.processApertures\u001b[1;34m(subTopologies, apertures, exclusive, tolerance)\u001b[0m\n\u001b[0;32m    234\u001b[0m ap \u001b[38;5;241m=\u001b[39m \u001b[38;5;241m1\u001b[39m\n\u001b[0;32m    235\u001b[0m \u001b[38;5;28;01mfor\u001b[39;00m aperture \u001b[38;5;129;01min\u001b[39;00m apertures:\n\u001b[1;32m--> 236\u001b[0m     apCenter \u001b[38;5;241m=\u001b[39m \u001b[43mTopology\u001b[49m\u001b[38;5;241;43m.\u001b[39;49m\u001b[43mInternalVertex\u001b[49m\u001b[43m(\u001b[49m\u001b[43maperture\u001b[49m\u001b[43m,\u001b[49m\u001b[43m \u001b[49m\u001b[43mtolerance\u001b[49m\u001b[43m)\u001b[49m\n\u001b[0;32m    237\u001b[0m     \u001b[38;5;28;01mfor\u001b[39;00m i \u001b[38;5;129;01min\u001b[39;00m \u001b[38;5;28mrange\u001b[39m(\u001b[38;5;28mlen\u001b[39m(subTopologies)):\n\u001b[0;32m    238\u001b[0m         subTopology \u001b[38;5;241m=\u001b[39m subTopologies[i]\n",
      "File \u001b[1;32m~\\.conda\\envs\\topologic_py310\\lib\\site-packages\\topologicpy\\Topology.py:4339\u001b[0m, in \u001b[0;36mTopology.InternalVertex\u001b[1;34m(topology, tolerance)\u001b[0m\n\u001b[0;32m   4337\u001b[0m     vst \u001b[38;5;241m=\u001b[39m Face\u001b[38;5;241m.\u001b[39mInternalVertex(tempFace, tolerance\u001b[38;5;241m=\u001b[39mtolerance)\n\u001b[0;32m   4338\u001b[0m \u001b[38;5;28;01melif\u001b[39;00m \u001b[38;5;28misinstance\u001b[39m(topology, topologic\u001b[38;5;241m.\u001b[39mFace): \u001b[38;5;66;03m#Face\u001b[39;00m\n\u001b[1;32m-> 4339\u001b[0m     vst \u001b[38;5;241m=\u001b[39m \u001b[43mFace\u001b[49m\u001b[38;5;241;43m.\u001b[39;49m\u001b[43mInternalVertex\u001b[49m\u001b[43m(\u001b[49m\u001b[43mtopology\u001b[49m\u001b[43m,\u001b[49m\u001b[43m \u001b[49m\u001b[43mtolerance\u001b[49m\u001b[38;5;241;43m=\u001b[39;49m\u001b[43mtolerance\u001b[49m\u001b[43m)\u001b[49m\n\u001b[0;32m   4340\u001b[0m \u001b[38;5;28;01melif\u001b[39;00m \u001b[38;5;28misinstance\u001b[39m(topology, topologic\u001b[38;5;241m.\u001b[39mWire): \u001b[38;5;66;03m#Wire\u001b[39;00m\n\u001b[0;32m   4341\u001b[0m     \u001b[38;5;28;01mif\u001b[39;00m topology\u001b[38;5;241m.\u001b[39mIsClosed():\n",
      "File \u001b[1;32m~\\.conda\\envs\\topologic_py310\\lib\\site-packages\\topologicpy\\Face.py:1141\u001b[0m, in \u001b[0;36mFace.InternalVertex\u001b[1;34m(face, tolerance)\u001b[0m\n\u001b[0;32m   1139\u001b[0m     \u001b[38;5;28;01mreturn\u001b[39;00m \u001b[38;5;28;01mNone\u001b[39;00m\n\u001b[0;32m   1140\u001b[0m v \u001b[38;5;241m=\u001b[39m Topology\u001b[38;5;241m.\u001b[39mCentroid(face)\n\u001b[1;32m-> 1141\u001b[0m \u001b[38;5;28;01mif\u001b[39;00m \u001b[43mVertex\u001b[49m\u001b[38;5;241;43m.\u001b[39;49m\u001b[43mIsInternal\u001b[49m\u001b[43m(\u001b[49m\u001b[43mv\u001b[49m\u001b[43m,\u001b[49m\u001b[43m \u001b[49m\u001b[43mface\u001b[49m\u001b[43m,\u001b[49m\u001b[43m \u001b[49m\u001b[43mtolerance\u001b[49m\u001b[38;5;241;43m=\u001b[39;49m\u001b[43mtolerance\u001b[49m\u001b[43m)\u001b[49m:\n\u001b[0;32m   1142\u001b[0m     \u001b[38;5;28;01mreturn\u001b[39;00m v\n\u001b[0;32m   1143\u001b[0m l \u001b[38;5;241m=\u001b[39m [\u001b[38;5;241m0.4\u001b[39m,\u001b[38;5;241m0.6\u001b[39m,\u001b[38;5;241m0.3\u001b[39m,\u001b[38;5;241m0.7\u001b[39m,\u001b[38;5;241m0.2\u001b[39m,\u001b[38;5;241m0.8\u001b[39m,\u001b[38;5;241m0.1\u001b[39m,\u001b[38;5;241m0.9\u001b[39m]\n",
      "File \u001b[1;32m~\\.conda\\envs\\topologic_py310\\lib\\site-packages\\topologicpy\\Vertex.py:1000\u001b[0m, in \u001b[0;36mVertex.IsInternal\u001b[1;34m(vertex, topology, tolerance, silent)\u001b[0m\n\u001b[0;32m    998\u001b[0m     \u001b[38;5;28;01mreturn\u001b[39;00m \u001b[38;5;28;01mFalse\u001b[39;00m\n\u001b[0;32m    999\u001b[0m normal \u001b[38;5;241m=\u001b[39m Face\u001b[38;5;241m.\u001b[39mNormal(topology)\n\u001b[1;32m-> 1000\u001b[0m proj_v \u001b[38;5;241m=\u001b[39m \u001b[43mVertex\u001b[49m\u001b[38;5;241;43m.\u001b[39;49m\u001b[43mProject\u001b[49m\u001b[43m(\u001b[49m\u001b[43mvertex\u001b[49m\u001b[43m,\u001b[49m\u001b[43m \u001b[49m\u001b[43mtopology\u001b[49m\u001b[43m)\u001b[49m\n\u001b[0;32m   1001\u001b[0m v1 \u001b[38;5;241m=\u001b[39m Topology\u001b[38;5;241m.\u001b[39mTranslateByDirectionDistance(proj_v, normal, \u001b[38;5;241m1\u001b[39m)\n\u001b[0;32m   1002\u001b[0m v2 \u001b[38;5;241m=\u001b[39m Topology\u001b[38;5;241m.\u001b[39mTranslateByDirectionDistance(proj_v, normal, \u001b[38;5;241m-\u001b[39m\u001b[38;5;241m1\u001b[39m)\n",
      "File \u001b[1;32m~\\.conda\\envs\\topologic_py310\\lib\\site-packages\\topologicpy\\Vertex.py:1516\u001b[0m, in \u001b[0;36mVertex.Project\u001b[1;34m(vertex, face, direction, mantissa)\u001b[0m\n\u001b[0;32m   1514\u001b[0m     \u001b[38;5;28;01mreturn\u001b[39;00m \u001b[38;5;28;01mNone\u001b[39;00m\n\u001b[0;32m   1515\u001b[0m eq \u001b[38;5;241m=\u001b[39m Face\u001b[38;5;241m.\u001b[39mPlaneEquation(face, mantissa\u001b[38;5;241m=\u001b[39m mantissa)\n\u001b[1;32m-> 1516\u001b[0m pt \u001b[38;5;241m=\u001b[39m \u001b[43mproject_point_onto_plane\u001b[49m\u001b[43m(\u001b[49m\u001b[43mVertex\u001b[49m\u001b[38;5;241;43m.\u001b[39;49m\u001b[43mCoordinates\u001b[49m\u001b[43m(\u001b[49m\u001b[43mvertex\u001b[49m\u001b[43m)\u001b[49m\u001b[43m,\u001b[49m\u001b[43m \u001b[49m\u001b[43m[\u001b[49m\u001b[43meq\u001b[49m\u001b[43m[\u001b[49m\u001b[38;5;124;43m\"\u001b[39;49m\u001b[38;5;124;43ma\u001b[39;49m\u001b[38;5;124;43m\"\u001b[39;49m\u001b[43m]\u001b[49m\u001b[43m,\u001b[49m\u001b[43m \u001b[49m\u001b[43meq\u001b[49m\u001b[43m[\u001b[49m\u001b[38;5;124;43m\"\u001b[39;49m\u001b[38;5;124;43mb\u001b[39;49m\u001b[38;5;124;43m\"\u001b[39;49m\u001b[43m]\u001b[49m\u001b[43m,\u001b[49m\u001b[43m \u001b[49m\u001b[43meq\u001b[49m\u001b[43m[\u001b[49m\u001b[38;5;124;43m\"\u001b[39;49m\u001b[38;5;124;43mc\u001b[39;49m\u001b[38;5;124;43m\"\u001b[39;49m\u001b[43m]\u001b[49m\u001b[43m,\u001b[49m\u001b[43m \u001b[49m\u001b[43meq\u001b[49m\u001b[43m[\u001b[49m\u001b[38;5;124;43m\"\u001b[39;49m\u001b[38;5;124;43md\u001b[39;49m\u001b[38;5;124;43m\"\u001b[39;49m\u001b[43m]\u001b[49m\u001b[43m]\u001b[49m\u001b[43m,\u001b[49m\u001b[43m \u001b[49m\u001b[43mdirection\u001b[49m\u001b[43m)\u001b[49m\n\u001b[0;32m   1517\u001b[0m \u001b[38;5;28;01mreturn\u001b[39;00m Vertex\u001b[38;5;241m.\u001b[39mByCoordinates(pt[\u001b[38;5;241m0\u001b[39m], pt[\u001b[38;5;241m1\u001b[39m], pt[\u001b[38;5;241m2\u001b[39m])\n",
      "File \u001b[1;32m~\\.conda\\envs\\topologic_py310\\lib\\site-packages\\topologicpy\\Vertex.py:1499\u001b[0m, in \u001b[0;36mVertex.Project.<locals>.project_point_onto_plane\u001b[1;34m(point, plane_coeffs, direction_vector)\u001b[0m\n\u001b[0;32m   1496\u001b[0m a, b, c, d \u001b[38;5;241m=\u001b[39m plane_coeffs\n\u001b[0;32m   1498\u001b[0m \u001b[38;5;66;03m# Unpack direction vector\u001b[39;00m\n\u001b[1;32m-> 1499\u001b[0m vx, vy, vz \u001b[38;5;241m=\u001b[39m direction_vector\n\u001b[0;32m   1501\u001b[0m \u001b[38;5;66;03m# Calculate the distance from the point to the plane\u001b[39;00m\n\u001b[0;32m   1502\u001b[0m distance \u001b[38;5;241m=\u001b[39m (a \u001b[38;5;241m*\u001b[39m x \u001b[38;5;241m+\u001b[39m b \u001b[38;5;241m*\u001b[39m y \u001b[38;5;241m+\u001b[39m c \u001b[38;5;241m*\u001b[39m z \u001b[38;5;241m+\u001b[39m d) \u001b[38;5;241m/\u001b[39m (a \u001b[38;5;241m*\u001b[39m vx \u001b[38;5;241m+\u001b[39m b \u001b[38;5;241m*\u001b[39m vy \u001b[38;5;241m+\u001b[39m c \u001b[38;5;241m*\u001b[39m vz)\n",
      "\u001b[1;31mTypeError\u001b[0m: cannot unpack non-iterable NoneType object"
     ]
    }
   ],
   "source": [
    "building = CellComplex.ByCells([r1,r2,r3,r4,r5,r6,r7,r8,r9,r10])\n",
    "doors = [d1,d2,d3,d4,d5,d6,d7,d8,d9,d10,d11]\n",
    "building = Topology.AddApertures(building, doors, exclusive=True, subTopologyType=\"face\",tolerance=0.001)\n",
    "Topology.Show(building, doors)"
   ]
  },
  {
   "cell_type": "markdown",
   "id": "a3b1d568",
   "metadata": {},
   "source": [
    "## Create the basic dual graph to check accuracy of modelling and topology"
   ]
  },
  {
   "cell_type": "code",
   "execution_count": null,
   "id": "d2d77212",
   "metadata": {},
   "outputs": [],
   "source": [
    "g = Graph.ByTopology(building, direct=False, directApertures=True)\n",
    "g_top = Graph.Topology(g)\n",
    "data01 = Plotly.DataByTopology(g_top, vertexSize=5, edgeWidth=3, edgeColor=\"red\")\n",
    "data02 = Plotly.DataByTopology(building)\n",
    "data03 = Plotly.DataByTopology(Cluster.ByTopologies(doors))\n",
    "figure = Plotly.FigureByData(data01+data02+data03)\n",
    "Plotly.Show(figure, renderer='offline')"
   ]
  },
  {
   "cell_type": "markdown",
   "id": "66a0cfaa",
   "metadata": {},
   "source": [
    "## Calculate the PageRank of the created graph. Assume it is un-directed (bidirectional edges)"
   ]
  },
  {
   "cell_type": "code",
   "execution_count": 8,
   "id": "26ad709e",
   "metadata": {},
   "outputs": [
    {
     "ename": "NameError",
     "evalue": "name 'g' is not defined",
     "output_type": "error",
     "traceback": [
      "\u001b[1;31m---------------------------------------------------------------------------\u001b[0m",
      "\u001b[1;31mNameError\u001b[0m                                 Traceback (most recent call last)",
      "Cell \u001b[1;32mIn[8], line 1\u001b[0m\n\u001b[1;32m----> 1\u001b[0m page_rank \u001b[38;5;241m=\u001b[39m Graph\u001b[38;5;241m.\u001b[39mPageRank(\u001b[43mg\u001b[49m, directed\u001b[38;5;241m=\u001b[39m\u001b[38;5;28;01mFalse\u001b[39;00m, alpha\u001b[38;5;241m=\u001b[39m\u001b[38;5;241m0.85\u001b[39m, maxIterations\u001b[38;5;241m=\u001b[39m\u001b[38;5;241m100\u001b[39m, normalize\u001b[38;5;241m=\u001b[39m\u001b[38;5;28;01mTrue\u001b[39;00m)\n\u001b[0;32m      2\u001b[0m page_rank \u001b[38;5;241m=\u001b[39m [\u001b[38;5;28mround\u001b[39m(x, \u001b[38;5;241m2\u001b[39m) \u001b[38;5;28;01mfor\u001b[39;00m x \u001b[38;5;129;01min\u001b[39;00m page_rank]\n\u001b[0;32m      3\u001b[0m \u001b[38;5;28mprint\u001b[39m(page_rank)\n",
      "\u001b[1;31mNameError\u001b[0m: name 'g' is not defined"
     ]
    }
   ],
   "source": [
    "page_rank = Graph.PageRank(g, directed=False, alpha=0.85, maxIterations=100, normalize=True)\n",
    "page_rank = [round(x, 2) for x in page_rank]\n",
    "print(page_rank)"
   ]
  },
  {
   "cell_type": "markdown",
   "id": "68fa9573",
   "metadata": {},
   "source": [
    "## Transfer the PageRank values to vertices to apply to the rooms for colour-coding"
   ]
  },
  {
   "cell_type": "code",
   "execution_count": null,
   "id": "5e93025f",
   "metadata": {},
   "outputs": [],
   "source": [
    "vertices = Graph.Vertices(g)\n",
    "selectors = []\n",
    "for i, v in enumerate(vertices):\n",
    "    d = Dictionary.ByKeyValue(\"pageRank\", page_rank[i])\n",
    "    s = Vertex.ByCoordinates(Vertex.X(v), Vertex.Y(v), 0) #Move to the ground to apply to room floor at z=0\n",
    "    s = Topology.SetDictionary(s, d)\n",
    "    selectors.append(s)\n",
    "    print(Vertex.Coordinates(v), page_rank[i])"
   ]
  },
  {
   "cell_type": "markdown",
   "id": "be57215a",
   "metadata": {},
   "source": [
    "## Get the floor of each room and transfer the dictionaries."
   ]
  },
  {
   "cell_type": "code",
   "execution_count": null,
   "id": "2d52a0a8",
   "metadata": {},
   "outputs": [],
   "source": [
    "dictionary = CellComplex.Decompose(building)\n",
    "bhf = dictionary['bottomHorizontalFaces']\n",
    "shell = Shell.ByFaces(bhf)\n",
    "shell = Topology.TransferDictionariesBySelectors(shell, selectors=selectors, tranFaces=True)\n",
    "edges = Topology.Edges(building)\n",
    "for door in doors:\n",
    "    edges += Topology.Edges(door)"
   ]
  },
  {
   "cell_type": "markdown",
   "id": "03db8cea",
   "metadata": {},
   "source": [
    "## Hover over each room floor to see its PageRank value"
   ]
  },
  {
   "cell_type": "code",
   "execution_count": null,
   "id": "2363f9b4",
   "metadata": {},
   "outputs": [],
   "source": [
    "Topology.Show(shell, edges, faceLabelKey=\"pageRank\", faceGroupKey=\"pageRank\", faceGroups=page_rank, colorScale=\"jet\", faceOpacity=1, backgroundColor=\"white\")"
   ]
  },
  {
   "cell_type": "code",
   "execution_count": null,
   "id": "d42224a7",
   "metadata": {},
   "outputs": [],
   "source": []
  }
 ],
 "metadata": {
  "kernelspec": {
   "display_name": "Python 3 (ipykernel)",
   "language": "python",
   "name": "python3"
  },
  "language_info": {
   "codemirror_mode": {
    "name": "ipython",
    "version": 3
   },
   "file_extension": ".py",
   "mimetype": "text/x-python",
   "name": "python",
   "nbconvert_exporter": "python",
   "pygments_lexer": "ipython3",
   "version": "3.10.13"
  }
 },
 "nbformat": 4,
 "nbformat_minor": 5
}
