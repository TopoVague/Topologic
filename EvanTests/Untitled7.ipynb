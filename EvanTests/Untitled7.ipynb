{
 "cells": [
  {
   "cell_type": "code",
   "execution_count": 1,
   "id": "988dfd00-94d9-4165-99e4-91336528d558",
   "metadata": {},
   "outputs": [
    {
     "name": "stdout",
     "output_type": "stream",
     "text": [
      "0.4.67\n"
     ]
    },
    {
     "name": "stderr",
     "output_type": "stream",
     "text": [
      "C:\\Users\\panta\\.conda\\envs\\topologic_py310\\lib\\site-packages\\tqdm\\auto.py:21: TqdmWarning: IProgress not found. Please update jupyter and ipywidgets. See https://ipywidgets.readthedocs.io/en/stable/user_install.html\n",
      "  from .autonotebook import tqdm as notebook_tqdm\n"
     ]
    }
   ],
   "source": [
    "import  topologicpy \n",
    "print(topologicpy.__version__)\n",
    "\n",
    "from topologicpy.Cell import Cell\n",
    "from topologicpy.CellComplex import CellComplex\n",
    "from topologicpy.Topology import Topology\n",
    "from topologicpy.Graph import Graph\n",
    "from topologicpy.Dictionary import Dictionary\n",
    "from topologicpy.Plotly import Plotly\n",
    "\n"
   ]
  },
  {
   "cell_type": "code",
   "execution_count": null,
   "id": "3093a21e-2e75-4d57-a8c8-923da2d20c78",
   "metadata": {},
   "outputs": [],
   "source": [
    "#create some geometry\n",
    "#TO figure out how to import\n",
    "p = CellComplex.Prism(width=2, uSides=5, vSides=4, placement =\"bottom\")\n",
    "c = Cell.Prism(width=0.8, height=1.2, placement=\"bottom\")\n",
    "p=Topology.Impose(p,c)\n",
    "c=Cell.Prism(width=0.8, height=1.2, placement=\"bottom\")\n",
    "p =Topology.Merge (p,c)\n",
    "\n",
    "Topology.Show"
   ]
  }
 ],
 "metadata": {
  "kernelspec": {
   "display_name": "Python 3 (ipykernel)",
   "language": "python",
   "name": "python3"
  },
  "language_info": {
   "codemirror_mode": {
    "name": "ipython",
    "version": 3
   },
   "file_extension": ".py",
   "mimetype": "text/x-python",
   "name": "python",
   "nbconvert_exporter": "python",
   "pygments_lexer": "ipython3",
   "version": "3.10.13"
  }
 },
 "nbformat": 4,
 "nbformat_minor": 5
}
