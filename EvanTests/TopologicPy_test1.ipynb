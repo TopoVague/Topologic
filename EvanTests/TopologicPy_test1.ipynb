{
 "cells": [
  {
   "cell_type": "code",
   "execution_count": 15,
   "id": "9824430e-b6fb-4859-9671-4e5d2448e407",
   "metadata": {},
   "outputs": [
    {
     "name": "stdout",
     "output_type": "stream",
     "text": [
      "0.4.67\n"
     ]
    }
   ],
   "source": [
    "import  topologicpy \n",
    "print(topologicpy.__version__)\n",
    "\n",
    "from topologicpy.Cell import Cell\n",
    "from topologicpy.CellComplex import CellComplex\n",
    "from topologicpy.Topology import Topology\n",
    "from topologicpy.Graph import Graph\n",
    "from topologicpy.Dictionary import Dictionary\n",
    "from topologicpy.Plotly import Plotly\n"
   ]
  },
  {
   "cell_type": "code",
   "execution_count": 3,
   "id": "7d4c534c-9b5e-4166-9902-8bfd97d7c5fe",
   "metadata": {},
   "outputs": [],
   "source": [
    "from topologicpy.Topology import Topology\n",
    "from topologicpy.Wire import Wire\n",
    "from topologicpy.Face import Face\n",
    "\n",
    "w = Wire.Star(rays=8)\n",
    "f = Face.ByWire(w)\n",
    "\n",
    "Topology.Show(f, renderer='offline', faceColor='blue', showVertices=False,)"
   ]
  },
  {
   "cell_type": "code",
   "execution_count": null,
   "id": "8759e54e-beb7-4edc-8470-94c8740f099f",
   "metadata": {},
   "outputs": [],
   "source": []
  }
 ],
 "metadata": {
  "kernelspec": {
   "display_name": "Python 3 (ipykernel)",
   "language": "python",
   "name": "python3"
  },
  "language_info": {
   "codemirror_mode": {
    "name": "ipython",
    "version": 3
   },
   "file_extension": ".py",
   "mimetype": "text/x-python",
   "name": "python",
   "nbconvert_exporter": "python",
   "pygments_lexer": "ipython3",
   "version": "3.10.13"
  }
 },
 "nbformat": 4,
 "nbformat_minor": 5
}
