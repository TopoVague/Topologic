{
 "cells": [
  {
   "cell_type": "code",
   "execution_count": 1,
   "id": "9f58f3f5-8998-4024-ad10-8d04bf2cb3c9",
   "metadata": {},
   "outputs": [
    {
     "name": "stdout",
     "output_type": "stream",
     "text": [
      "0.5.0\n"
     ]
    }
   ],
   "source": [
    "import  topologicpy \n",
    "import plotly\n",
    "from topologicpy.Cell import Cell\n",
    "from topologicpy.CellComplex import CellComplex\n",
    "from topologicpy.Topology import Topology\n",
    "from topologicpy.Graph import Graph\n",
    "from topologicpy.Dictionary import Dictionary\n",
    "from topologicpy.Plotly import Plotly\n",
    "\n",
    "print(topologicpy.__version__)"
   ]
  },
  {
   "cell_type": "code",
   "execution_count": 2,
   "id": "3d5986be-7916-4a91-b7dc-99356ce6f3d2",
   "metadata": {},
   "outputs": [],
   "source": [
    "#create some geometry\n",
    "#TO figure out how to import\n",
    "p = CellComplex.Prism(width=2, uSides=5, vSides=4, placement =\"bottom\")\n",
    "c = Cell.Prism(width=0.8, height=1.2, placement=\"bottom\")\n",
    "p = Topology.Impose(p,c)\n",
    "c = Cell.Prism(width=0.8, height=1.2, placement=\"bottom\")\n",
    "p = Topology.Merge (p,c)\n",
    "Topology.Show(p, renderer='browser', faceColor='white', showVertices=False,showEdges=True)"
   ]
  },
  {
   "cell_type": "code",
   "execution_count": 3,
   "id": "a1d5e61f-998b-4ea0-a91e-e85df8419641",
   "metadata": {},
   "outputs": [],
   "source": [
    "cluster = Topology.Explode(p, scale=1.5)\n",
    "Topology.Show(cluster,renderer='browser', faceOpacity=.8)"
   ]
  },
  {
   "cell_type": "code",
   "execution_count": 4,
   "id": "9cd5d12b-c2b3-4b5d-841f-88b1f92695b5",
   "metadata": {},
   "outputs": [],
   "source": [
    "d = CellComplex.Decompose(p)\n",
    "d[\"Cells\"] = Topology.Cells(p)\n",
    "keys = Dictionary.Keys(d)\n",
    "vertexGroups = []\n",
    "for key in keys:\n",
    "    topologies = d[key]\n",
    "    if len(topologies) > 0:\n",
    "        vertexGroups.append(key)\n",
    "\n",
    "#create a definition takes the list of topologies of a certain group and assigns the correct dictionary to it  \n",
    "def assignDictionary(toplogies, vertexGroup):\n",
    "    for i,t in enumerate (topologies):\n",
    "        d = Dictionary.ByKeysValues([\"id\",\"group\"], [vertexGroup+str(i), vertexGroup])\n",
    "        t = Topology.SetDictionary(t,d)\n",
    "\n",
    "for vertexGroup in vertexGroups:\n",
    "    topologies = d[vertexGroup]\n",
    "    assignDictionary(topologies, vertexGroup)"
   ]
  },
  {
   "cell_type": "code",
   "execution_count": 6,
   "id": "7a30ecad-225f-4cff-93d0-ed2628e34f92",
   "metadata": {
    "scrolled": true
   },
   "outputs": [
    {
     "ename": "TypeError",
     "evalue": "cannot unpack non-iterable NoneType object",
     "output_type": "error",
     "traceback": [
      "\u001b[1;31m---------------------------------------------------------------------------\u001b[0m",
      "\u001b[1;31mTypeError\u001b[0m                                 Traceback (most recent call last)",
      "Cell \u001b[1;32mIn[6], line 1\u001b[0m\n\u001b[1;32m----> 1\u001b[0m g \u001b[38;5;241m=\u001b[39m \u001b[43mGraph\u001b[49m\u001b[38;5;241;43m.\u001b[39;49m\u001b[43mByTopology\u001b[49m\u001b[43m(\u001b[49m\u001b[43mp\u001b[49m\u001b[43m,\u001b[49m\u001b[43m \u001b[49m\u001b[43mtoExteriorTopologies\u001b[49m\u001b[38;5;241;43m=\u001b[39;49m\u001b[38;5;28;43;01mTrue\u001b[39;49;00m\u001b[43m,\u001b[49m\u001b[43m \u001b[49m\u001b[43mviaSharedTopologies\u001b[49m\u001b[38;5;241;43m=\u001b[39;49m\u001b[38;5;28;43;01mTrue\u001b[39;49;00m\u001b[43m)\u001b[49m\n\u001b[0;32m      2\u001b[0m data01 \u001b[38;5;241m=\u001b[39m Plotly\u001b[38;5;241m.\u001b[39mDataByGraph(g, vertexGroupKey\u001b[38;5;241m=\u001b[39m\u001b[38;5;124m\"\u001b[39m\u001b[38;5;124mgroup\u001b[39m\u001b[38;5;124m\"\u001b[39m,vertexLabelKey\u001b[38;5;241m=\u001b[39m\u001b[38;5;124m\"\u001b[39m\u001b[38;5;124mgroup\u001b[39m\u001b[38;5;124m\"\u001b[39m,vertexGroups\u001b[38;5;241m=\u001b[39mvertexGroups, colorScale\u001b[38;5;241m=\u001b[39m\u001b[38;5;124m\"\u001b[39m\u001b[38;5;124mthermal\u001b[39m\u001b[38;5;124m\"\u001b[39m)\n\u001b[0;32m      3\u001b[0m data02 \u001b[38;5;241m=\u001b[39m Plotly\u001b[38;5;241m.\u001b[39mDataByTopology(p, faceOpacity\u001b[38;5;241m=\u001b[39m\u001b[38;5;241m0\u001b[39m)\n",
      "File \u001b[1;32m~\\.conda\\envs\\topologic_py310\\lib\\site-packages\\topologicpy\\Graph.py:2922\u001b[0m, in \u001b[0;36mGraph.ByTopology\u001b[1;34m(topology, direct, directApertures, viaSharedTopologies, viaSharedApertures, toExteriorTopologies, toExteriorApertures, toContents, toOutposts, idKey, outpostsKey, useInternalVertex, storeBRep, tolerance)\u001b[0m\n\u001b[0;32m   2920\u001b[0m edges \u001b[38;5;241m=\u001b[39m []\n\u001b[0;32m   2921\u001b[0m \u001b[38;5;28;01mif\u001b[39;00m \u001b[38;5;28misinstance\u001b[39m(topology, topologic\u001b[38;5;241m.\u001b[39mCellComplex):\n\u001b[1;32m-> 2922\u001b[0m     vertices, edges \u001b[38;5;241m=\u001b[39m \u001b[43mprocessCellComplex\u001b[49m\u001b[43m(\u001b[49m\u001b[43mitem\u001b[49m\u001b[43m)\u001b[49m\n\u001b[0;32m   2923\u001b[0m \u001b[38;5;28;01melif\u001b[39;00m \u001b[38;5;28misinstance\u001b[39m(topology, topologic\u001b[38;5;241m.\u001b[39mCell):\n\u001b[0;32m   2924\u001b[0m     vertices, edges \u001b[38;5;241m=\u001b[39m processCell(item)\n",
      "File \u001b[1;32m~\\.conda\\envs\\topologic_py310\\lib\\site-packages\\topologicpy\\Graph.py:1730\u001b[0m, in \u001b[0;36mGraph.ByTopology.<locals>.processCellComplex\u001b[1;34m(item)\u001b[0m\n\u001b[0;32m   1728\u001b[0m \u001b[38;5;28;01mfor\u001b[39;00m sharedTopology \u001b[38;5;129;01min\u001b[39;00m sharedTopologies:\n\u001b[0;32m   1729\u001b[0m     \u001b[38;5;28;01mif\u001b[39;00m useInternalVertex \u001b[38;5;241m==\u001b[39m \u001b[38;5;28;01mTrue\u001b[39;00m:\n\u001b[1;32m-> 1730\u001b[0m         vst \u001b[38;5;241m=\u001b[39m \u001b[43mTopology\u001b[49m\u001b[38;5;241;43m.\u001b[39;49m\u001b[43mInternalVertex\u001b[49m\u001b[43m(\u001b[49m\u001b[43msharedTopology\u001b[49m\u001b[43m,\u001b[49m\u001b[43m \u001b[49m\u001b[43mtolerance\u001b[49m\u001b[43m)\u001b[49m\n\u001b[0;32m   1731\u001b[0m     \u001b[38;5;28;01melse\u001b[39;00m:\n\u001b[0;32m   1732\u001b[0m         vst \u001b[38;5;241m=\u001b[39m sharedTopology\u001b[38;5;241m.\u001b[39mCenterOfMass()\n",
      "File \u001b[1;32m~\\.conda\\envs\\topologic_py310\\lib\\site-packages\\topologicpy\\Topology.py:4339\u001b[0m, in \u001b[0;36mTopology.InternalVertex\u001b[1;34m(topology, tolerance)\u001b[0m\n\u001b[0;32m   4337\u001b[0m     vst \u001b[38;5;241m=\u001b[39m Face\u001b[38;5;241m.\u001b[39mInternalVertex(tempFace, tolerance\u001b[38;5;241m=\u001b[39mtolerance)\n\u001b[0;32m   4338\u001b[0m \u001b[38;5;28;01melif\u001b[39;00m \u001b[38;5;28misinstance\u001b[39m(topology, topologic\u001b[38;5;241m.\u001b[39mFace): \u001b[38;5;66;03m#Face\u001b[39;00m\n\u001b[1;32m-> 4339\u001b[0m     vst \u001b[38;5;241m=\u001b[39m \u001b[43mFace\u001b[49m\u001b[38;5;241;43m.\u001b[39;49m\u001b[43mInternalVertex\u001b[49m\u001b[43m(\u001b[49m\u001b[43mtopology\u001b[49m\u001b[43m,\u001b[49m\u001b[43m \u001b[49m\u001b[43mtolerance\u001b[49m\u001b[38;5;241;43m=\u001b[39;49m\u001b[43mtolerance\u001b[49m\u001b[43m)\u001b[49m\n\u001b[0;32m   4340\u001b[0m \u001b[38;5;28;01melif\u001b[39;00m \u001b[38;5;28misinstance\u001b[39m(topology, topologic\u001b[38;5;241m.\u001b[39mWire): \u001b[38;5;66;03m#Wire\u001b[39;00m\n\u001b[0;32m   4341\u001b[0m     \u001b[38;5;28;01mif\u001b[39;00m topology\u001b[38;5;241m.\u001b[39mIsClosed():\n",
      "File \u001b[1;32m~\\.conda\\envs\\topologic_py310\\lib\\site-packages\\topologicpy\\Face.py:1141\u001b[0m, in \u001b[0;36mFace.InternalVertex\u001b[1;34m(face, tolerance)\u001b[0m\n\u001b[0;32m   1139\u001b[0m     \u001b[38;5;28;01mreturn\u001b[39;00m \u001b[38;5;28;01mNone\u001b[39;00m\n\u001b[0;32m   1140\u001b[0m v \u001b[38;5;241m=\u001b[39m Topology\u001b[38;5;241m.\u001b[39mCentroid(face)\n\u001b[1;32m-> 1141\u001b[0m \u001b[38;5;28;01mif\u001b[39;00m \u001b[43mVertex\u001b[49m\u001b[38;5;241;43m.\u001b[39;49m\u001b[43mIsInternal\u001b[49m\u001b[43m(\u001b[49m\u001b[43mv\u001b[49m\u001b[43m,\u001b[49m\u001b[43m \u001b[49m\u001b[43mface\u001b[49m\u001b[43m,\u001b[49m\u001b[43m \u001b[49m\u001b[43mtolerance\u001b[49m\u001b[38;5;241;43m=\u001b[39;49m\u001b[43mtolerance\u001b[49m\u001b[43m)\u001b[49m:\n\u001b[0;32m   1142\u001b[0m     \u001b[38;5;28;01mreturn\u001b[39;00m v\n\u001b[0;32m   1143\u001b[0m l \u001b[38;5;241m=\u001b[39m [\u001b[38;5;241m0.4\u001b[39m,\u001b[38;5;241m0.6\u001b[39m,\u001b[38;5;241m0.3\u001b[39m,\u001b[38;5;241m0.7\u001b[39m,\u001b[38;5;241m0.2\u001b[39m,\u001b[38;5;241m0.8\u001b[39m,\u001b[38;5;241m0.1\u001b[39m,\u001b[38;5;241m0.9\u001b[39m]\n",
      "File \u001b[1;32m~\\.conda\\envs\\topologic_py310\\lib\\site-packages\\topologicpy\\Vertex.py:1000\u001b[0m, in \u001b[0;36mVertex.IsInternal\u001b[1;34m(vertex, topology, tolerance, silent)\u001b[0m\n\u001b[0;32m    998\u001b[0m     \u001b[38;5;28;01mreturn\u001b[39;00m \u001b[38;5;28;01mFalse\u001b[39;00m\n\u001b[0;32m    999\u001b[0m normal \u001b[38;5;241m=\u001b[39m Face\u001b[38;5;241m.\u001b[39mNormal(topology)\n\u001b[1;32m-> 1000\u001b[0m proj_v \u001b[38;5;241m=\u001b[39m \u001b[43mVertex\u001b[49m\u001b[38;5;241;43m.\u001b[39;49m\u001b[43mProject\u001b[49m\u001b[43m(\u001b[49m\u001b[43mvertex\u001b[49m\u001b[43m,\u001b[49m\u001b[43m \u001b[49m\u001b[43mtopology\u001b[49m\u001b[43m)\u001b[49m\n\u001b[0;32m   1001\u001b[0m v1 \u001b[38;5;241m=\u001b[39m Topology\u001b[38;5;241m.\u001b[39mTranslateByDirectionDistance(proj_v, normal, \u001b[38;5;241m1\u001b[39m)\n\u001b[0;32m   1002\u001b[0m v2 \u001b[38;5;241m=\u001b[39m Topology\u001b[38;5;241m.\u001b[39mTranslateByDirectionDistance(proj_v, normal, \u001b[38;5;241m-\u001b[39m\u001b[38;5;241m1\u001b[39m)\n",
      "File \u001b[1;32m~\\.conda\\envs\\topologic_py310\\lib\\site-packages\\topologicpy\\Vertex.py:1516\u001b[0m, in \u001b[0;36mVertex.Project\u001b[1;34m(vertex, face, direction, mantissa)\u001b[0m\n\u001b[0;32m   1514\u001b[0m     \u001b[38;5;28;01mreturn\u001b[39;00m \u001b[38;5;28;01mNone\u001b[39;00m\n\u001b[0;32m   1515\u001b[0m eq \u001b[38;5;241m=\u001b[39m Face\u001b[38;5;241m.\u001b[39mPlaneEquation(face, mantissa\u001b[38;5;241m=\u001b[39m mantissa)\n\u001b[1;32m-> 1516\u001b[0m pt \u001b[38;5;241m=\u001b[39m \u001b[43mproject_point_onto_plane\u001b[49m\u001b[43m(\u001b[49m\u001b[43mVertex\u001b[49m\u001b[38;5;241;43m.\u001b[39;49m\u001b[43mCoordinates\u001b[49m\u001b[43m(\u001b[49m\u001b[43mvertex\u001b[49m\u001b[43m)\u001b[49m\u001b[43m,\u001b[49m\u001b[43m \u001b[49m\u001b[43m[\u001b[49m\u001b[43meq\u001b[49m\u001b[43m[\u001b[49m\u001b[38;5;124;43m\"\u001b[39;49m\u001b[38;5;124;43ma\u001b[39;49m\u001b[38;5;124;43m\"\u001b[39;49m\u001b[43m]\u001b[49m\u001b[43m,\u001b[49m\u001b[43m \u001b[49m\u001b[43meq\u001b[49m\u001b[43m[\u001b[49m\u001b[38;5;124;43m\"\u001b[39;49m\u001b[38;5;124;43mb\u001b[39;49m\u001b[38;5;124;43m\"\u001b[39;49m\u001b[43m]\u001b[49m\u001b[43m,\u001b[49m\u001b[43m \u001b[49m\u001b[43meq\u001b[49m\u001b[43m[\u001b[49m\u001b[38;5;124;43m\"\u001b[39;49m\u001b[38;5;124;43mc\u001b[39;49m\u001b[38;5;124;43m\"\u001b[39;49m\u001b[43m]\u001b[49m\u001b[43m,\u001b[49m\u001b[43m \u001b[49m\u001b[43meq\u001b[49m\u001b[43m[\u001b[49m\u001b[38;5;124;43m\"\u001b[39;49m\u001b[38;5;124;43md\u001b[39;49m\u001b[38;5;124;43m\"\u001b[39;49m\u001b[43m]\u001b[49m\u001b[43m]\u001b[49m\u001b[43m,\u001b[49m\u001b[43m \u001b[49m\u001b[43mdirection\u001b[49m\u001b[43m)\u001b[49m\n\u001b[0;32m   1517\u001b[0m \u001b[38;5;28;01mreturn\u001b[39;00m Vertex\u001b[38;5;241m.\u001b[39mByCoordinates(pt[\u001b[38;5;241m0\u001b[39m], pt[\u001b[38;5;241m1\u001b[39m], pt[\u001b[38;5;241m2\u001b[39m])\n",
      "File \u001b[1;32m~\\.conda\\envs\\topologic_py310\\lib\\site-packages\\topologicpy\\Vertex.py:1499\u001b[0m, in \u001b[0;36mVertex.Project.<locals>.project_point_onto_plane\u001b[1;34m(point, plane_coeffs, direction_vector)\u001b[0m\n\u001b[0;32m   1496\u001b[0m a, b, c, d \u001b[38;5;241m=\u001b[39m plane_coeffs\n\u001b[0;32m   1498\u001b[0m \u001b[38;5;66;03m# Unpack direction vector\u001b[39;00m\n\u001b[1;32m-> 1499\u001b[0m vx, vy, vz \u001b[38;5;241m=\u001b[39m direction_vector\n\u001b[0;32m   1501\u001b[0m \u001b[38;5;66;03m# Calculate the distance from the point to the plane\u001b[39;00m\n\u001b[0;32m   1502\u001b[0m distance \u001b[38;5;241m=\u001b[39m (a \u001b[38;5;241m*\u001b[39m x \u001b[38;5;241m+\u001b[39m b \u001b[38;5;241m*\u001b[39m y \u001b[38;5;241m+\u001b[39m c \u001b[38;5;241m*\u001b[39m z \u001b[38;5;241m+\u001b[39m d) \u001b[38;5;241m/\u001b[39m (a \u001b[38;5;241m*\u001b[39m vx \u001b[38;5;241m+\u001b[39m b \u001b[38;5;241m*\u001b[39m vy \u001b[38;5;241m+\u001b[39m c \u001b[38;5;241m*\u001b[39m vz)\n",
      "\u001b[1;31mTypeError\u001b[0m: cannot unpack non-iterable NoneType object"
     ]
    }
   ],
   "source": [
    "g = Graph.ByTopology(p, toExteriorTopologies=True, viaSharedTopologies=True)\n",
    "data01 = Plotly.DataByGraph(g, vertexGroupKey=\"group\",vertexLabelKey=\"group\",vertexGroups=vertexGroups, colorScale=\"thermal\")\n",
    "data02 = Plotly.DataByTopology(p, faceOpacity=0)\n",
    "fig = Plotly.FigureByData(data01+data02)\n",
    "Plotly.Show(fig, renderer=\"browser\")"
   ]
  },
  {
   "cell_type": "code",
   "execution_count": 6,
   "id": "f91557f6-228c-48c2-b128-108a63f3c5d1",
   "metadata": {},
   "outputs": [
    {
     "name": "stdout",
     "output_type": "stream",
     "text": [
      "C:/Users/panta/Documents/GitHub/Topologic/EvanTests/PyvisGraph.html\n"
     ]
    }
   ],
   "source": [
    "Graph.PyvisGraph(g,\n",
    "                 \"C:/Users/panta/Documents/GitHub/Topologic/EvanTests/PyvisGraph.html\",\n",
    "                 backgroundColor =\"white\",\n",
    "                 fontColor = \"black\",\n",
    "                 vertexLabelKey=\"group\",\n",
    "                 vertexColor=\"black\",\n",
    "                 vertexGroupKey='group',\n",
    "                 vertexGroups=vertexGroups,\n",
    "                 vertexSize=0,\n",
    "                 vertexSizeKey=\"degree\",\n",
    "                 vertexColorKey=None,\n",
    "                 edgeWeightKey=None,\n",
    "                 notebook=False,\n",
    "                 colorScale=\"thermal\")"
   ]
  },
  {
   "cell_type": "code",
   "execution_count": null,
   "id": "681030e5-a3f6-4351-b673-9dc7c25bd4ce",
   "metadata": {},
   "outputs": [],
   "source": []
  }
 ],
 "metadata": {
  "kernelspec": {
   "display_name": "Python 3 (ipykernel)",
   "language": "python",
   "name": "python3"
  },
  "language_info": {
   "codemirror_mode": {
    "name": "ipython",
    "version": 3
   },
   "file_extension": ".py",
   "mimetype": "text/x-python",
   "name": "python",
   "nbconvert_exporter": "python",
   "pygments_lexer": "ipython3",
   "version": "3.10.13"
  }
 },
 "nbformat": 4,
 "nbformat_minor": 5
}
