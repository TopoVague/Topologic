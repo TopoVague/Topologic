{
 "cells": [
  {
   "cell_type": "code",
   "execution_count": 5,
   "id": "9824430e-b6fb-4859-9671-4e5d2448e407",
   "metadata": {},
   "outputs": [
    {
     "name": "stdout",
     "output_type": "stream",
     "text": [
      "successfully imported libraries\n",
      "the current version of topologic is: 0.5.0\n"
     ]
    }
   ],
   "source": [
    "import  topologicpy \n",
    "from topologicpy.Cell import Cell\n",
    "from topologicpy.CellComplex import CellComplex\n",
    "from topologicpy.Topology import Topology\n",
    "from topologicpy.Graph import Graph\n",
    "from topologicpy.Dictionary import Dictionary\n",
    "from topologicpy.Plotly import Plotly\n",
    "\n",
    "print(\"successfully imported libraries\")\n",
    "print(\"the current version of topologic is: \" + topologicpy.__version__)"
   ]
  },
  {
   "cell_type": "code",
   "execution_count": 9,
   "id": "64ddf956-1dd7-4f83-b844-60aa8d5b49b7",
   "metadata": {},
   "outputs": [],
   "source": [
    "#create some geometry\n",
    "#TO figure out how to import\n",
    "building = CellComplex.Prism(width=20, length= 100, height=12, uSides=3, vSides=6,wSides=4, placement =\"bottom\")\n",
    "\n",
    "core1 = Cell.Prism(width=2, length=2, height=14, placement=\"bottom\")\n",
    "core1 = Topology.Translate(core1, 0, 10, 0)\n",
    "\n",
    "building = Topology.Impose(building,core1)\n",
    "core2 = Cell.Prism(width=3, length=3, height=15, placement=\"bottom\")\n",
    "core2 = Topology.Translate(core2, 0, -10, 0)\n",
    "\n",
    "building = Topology.Merge (building,core2)\n",
    "Topology.Show(building, renderer='browser', faceColor='grey',colorScale=\"jet\", showVertices=True)\n",
    "\n",
    "\n",
    "#TO DO ADD APERTURES\n"
   ]
  },
  {
   "cell_type": "code",
   "execution_count": null,
   "id": "49086ee0-80e4-4674-8894-7c0d44f95178",
   "metadata": {},
   "outputs": [],
   "source": []
  }
 ],
 "metadata": {
  "kernelspec": {
   "display_name": "Python 3 (ipykernel)",
   "language": "python",
   "name": "python3"
  },
  "language_info": {
   "codemirror_mode": {
    "name": "ipython",
    "version": 3
   },
   "file_extension": ".py",
   "mimetype": "text/x-python",
   "name": "python",
   "nbconvert_exporter": "python",
   "pygments_lexer": "ipython3",
   "version": "3.10.13"
  }
 },
 "nbformat": 4,
 "nbformat_minor": 5
}
