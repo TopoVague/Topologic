{
 "cells": [
  {
   "cell_type": "code",
   "execution_count": 1,
   "id": "e474680e",
   "metadata": {},
   "outputs": [],
   "source": [
    "#import sys # This is not needed on your machine. Please comment out.\n",
    "#sys.path.append(\"C:/Users/wassimj/Documents/Github\") # This is not needed on your machine. Please comment out."
   ]
  },
  {
   "cell_type": "markdown",
   "id": "b8bbe7ba",
   "metadata": {},
   "source": [
    "## Import the topologicpy classes"
   ]
  },
  {
   "cell_type": "code",
   "execution_count": 2,
   "id": "d88f9e61",
   "metadata": {},
   "outputs": [
    {
     "name": "stdout",
     "output_type": "stream",
     "text": [
      "current version is: 0.5.2\n"
     ]
    }
   ],
   "source": [
    "import topologicpy\n",
    "from topologicpy.Vertex import Vertex\n",
    "from topologicpy.Edge import Edge\n",
    "from topologicpy.Wire import Wire\n",
    "from topologicpy.Face import Face\n",
    "from topologicpy.Shell import Shell\n",
    "from topologicpy.Cell import Cell\n",
    "from topologicpy.CellComplex import CellComplex\n",
    "from topologicpy.Cluster import Cluster\n",
    "from topologicpy.Topology import Topology\n",
    "from topologicpy.Dictionary import Dictionary\n",
    "from topologicpy.Graph import Graph\n",
    "from topologicpy.Plotly import Plotly\n",
    "print (\"current version is: \"+ topologicpy.__version__)"
   ]
  },
  {
   "cell_type": "markdown",
   "id": "2cbc74e4",
   "metadata": {},
   "source": [
    "## Create the basic building geometry and doors"
   ]
  },
  {
   "cell_type": "code",
   "execution_count": 3,
   "id": "3e6769f7",
   "metadata": {},
   "outputs": [],
   "source": [
    "r1 = Cell.Prism(origin=Vertex.ByCoordinates(0,4.5,0), width=3, length=7.5, height=3, placement=\"lowerleft\")\n",
    "r2 = Cell.Prism(origin=Vertex.ByCoordinates(0,0,0), width=3, length=4.5, height=3, placement=\"lowerleft\")\n",
    "r3 = Cell.Prism(origin=Vertex.ByCoordinates(3,7.5,0), width=3, length=4.5, height=3, placement=\"lowerleft\")\n",
    "r4 = Cell.Prism(origin=Vertex.ByCoordinates(3,0,0), width=3, length=7.5, height=3, placement=\"lowerleft\")\n",
    "r5 = Cell.Prism(origin=Vertex.ByCoordinates(6,6,0), width=3, length=6, height=3, placement=\"lowerleft\")\n",
    "r6 = Cell.Prism(origin=Vertex.ByCoordinates(6,0,0), width=3, length=6, height=3, placement=\"lowerleft\")\n",
    "r7 = Cell.Prism(origin=Vertex.ByCoordinates(9,7.5,0), width=3, length=4.5, height=3, placement=\"lowerleft\")\n",
    "r8 = Cell.Prism(origin=Vertex.ByCoordinates(9,3,0), width=3, length=4.5, height=3, placement=\"lowerleft\")\n",
    "r9 = Cell.Prism(origin=Vertex.ByCoordinates(12,3,0), width=3, length=9, height=3, placement=\"lowerleft\")\n",
    "r10 = Cell.Prism(origin=Vertex.ByCoordinates(9,0,0), width=6, length=3, height=3, placement=\"lowerleft\")\n",
    "doorA = Face.Rectangle(width=0.9, length=2.1, placement=\"lowerleft\")\n",
    "doorA = Topology.Rotate(doorA, x=1, y=0, z=0, degree=90)\n",
    "doorA = Topology.Rotate(doorA, x=0, y=0, z=1, degree=90)\n",
    "doorA = Topology.Translate(doorA, x=0, y=-0.45, z=0.05)\n",
    "doorB = Topology.Rotate(doorA, x=0, y=0, z=1, degree=90)\n",
    "d1 = Topology.Place(doorA, originA=Vertex.Origin(), originB=Vertex.ByCoordinates(3, 6, 0))\n",
    "d2 = Topology.Place(doorA, originA=Vertex.Origin(), originB=Vertex.ByCoordinates(6, 3, 0))\n",
    "d3 = Topology.Place(doorA, originA=Vertex.Origin(), originB=Vertex.ByCoordinates(6, 6.75, 0))\n",
    "d4 = Topology.Place(doorA, originA=Vertex.Origin(), originB=Vertex.ByCoordinates(6, 9, 0))\n",
    "d5 = Topology.Place(doorA, originA=Vertex.Origin(), originB=Vertex.ByCoordinates(9, 4.5, 0))\n",
    "d6 = Topology.Place(doorA, originA=Vertex.Origin(), originB=Vertex.ByCoordinates(9, 6.75, 0))\n",
    "d7 = Topology.Place(doorA, originA=Vertex.Origin(), originB=Vertex.ByCoordinates(9, 9, 0))\n",
    "d8 = Topology.Place(doorA, originA=Vertex.Origin(), originB=Vertex.ByCoordinates(12, 6, 0))\n",
    "d9 = Topology.Place(doorA, originA=Vertex.Origin(), originB=Vertex.ByCoordinates(12, 9, 0))\n",
    "d10 = Topology.Place(doorB, originA=Vertex.Origin(), originB=Vertex.ByCoordinates(1.5, 4.5, 0))\n",
    "d11 = Topology.Place(doorB, originA=Vertex.Origin(), originB=Vertex.ByCoordinates(13.5, 3, 0))\n",
    "Topology.Show(r1,r2,r3,r4,r5,r6,r7,r8,r9,r10,d1,d2,d3,d4,d5,d6,d7,d8,d9,d10,d11, renderer=\"browser\")"
   ]
  },
  {
   "cell_type": "markdown",
   "id": "91798917",
   "metadata": {},
   "source": [
    "## Create the CellComplex from the rooms and add doors as apertures"
   ]
  },
  {
   "cell_type": "code",
   "execution_count": 4,
   "id": "e45def42",
   "metadata": {},
   "outputs": [],
   "source": [
    "building = CellComplex.ByCells([r1,r2,r3,r4,r5,r6,r7,r8,r9,r10])\n",
    "doors = [d1,d2,d3,d4,d5,d6,d7,d8,d9,d10,d11]\n",
    "building = Topology.AddApertures(building, doors, subTopologyType=\"face\", exclusive=True)\n",
    "Topology.Show(building, doors,renderer=\"browser\")"
   ]
  },
  {
   "cell_type": "markdown",
   "id": "a3b1d568",
   "metadata": {},
   "source": [
    "## Create the basic dual graph to check accuracy of modelling and topology"
   ]
  },
  {
   "cell_type": "code",
   "execution_count": 12,
   "id": "d2d77212",
   "metadata": {},
   "outputs": [],
   "source": [
    "g = Graph.ByTopology(building, direct=False, directApertures=True)\n",
    "g_top = Graph.Topology(g)\n",
    "data01 = Plotly.DataByTopology(g_top, vertexSize=5, edgeWidth=3, edgeColor=\"red\")\n",
    "data02 = Plotly.DataByTopology(building)\n",
    "data03 = Plotly.DataByTopology(Cluster.ByTopologies(doors))\n",
    "figure = Plotly.FigureByData(data01+data02+data03)\n",
    "Plotly.Show(figure,renderer=\"browser\")"
   ]
  },
  {
   "cell_type": "markdown",
   "id": "66a0cfaa",
   "metadata": {},
   "source": [
    "## Calculate the PageRank of the created graph. Assume it is un-directed (bidirectional edges)"
   ]
  },
  {
   "cell_type": "code",
   "execution_count": 7,
   "id": "26ad709e",
   "metadata": {},
   "outputs": [
    {
     "name": "stdout",
     "output_type": "stream",
     "text": [
      "[0.13, 0.1, 0.06, 0.13, 0.13, 0.09, 0.05, 0.05, 0.17, 0.09]\n"
     ]
    }
   ],
   "source": [
    "page_rank = Graph.PageRank(g, directed=False, maxIterations=100, normalize=False)\n",
    "page_rank = [round(x, 2) for x in page_rank]\n",
    "print(page_rank)"
   ]
  },
  {
   "cell_type": "markdown",
   "id": "68fa9573",
   "metadata": {},
   "source": [
    "## Transfer the PageRank values to vertices to apply to the rooms for colour-coding"
   ]
  },
  {
   "cell_type": "code",
   "execution_count": 8,
   "id": "5e93025f",
   "metadata": {},
   "outputs": [
    {
     "name": "stdout",
     "output_type": "stream",
     "text": [
      "[10.5, 5.25, 1.5] 0.13\n",
      "[1.5, 8.25, 1.5] 0.1\n",
      "[1.5, 2.25, 1.5] 0.06\n",
      "[4.5, 3.75, 1.5] 0.13\n",
      "[13.5, 7.5, 1.5] 0.13\n",
      "[7.5, 3.0, 1.5] 0.09\n",
      "[12.0, 1.5, 1.5] 0.05\n",
      "[4.5, 9.75, 1.5] 0.05\n",
      "[7.5, 9.0, 1.5] 0.17\n",
      "[10.5, 9.75, 1.5] 0.09\n"
     ]
    }
   ],
   "source": [
    "vertices = Graph.Vertices(g)\n",
    "selectors = []\n",
    "for i, v in enumerate(vertices):\n",
    "    d = Dictionary.ByKeyValue(\"pageRank\", page_rank[i])\n",
    "    s = Vertex.ByCoordinates(Vertex.X(v), Vertex.Y(v), 0) #Move to the ground to apply to room floor at z=0\n",
    "    s = Topology.SetDictionary(s, d)\n",
    "    selectors.append(s)\n",
    "    print(Vertex.Coordinates(v), page_rank[i])"
   ]
  },
  {
   "cell_type": "markdown",
   "id": "be57215a",
   "metadata": {},
   "source": [
    "## Get the floor of each room and transfer the dictionaries."
   ]
  },
  {
   "cell_type": "code",
   "execution_count": 9,
   "id": "2d52a0a8",
   "metadata": {},
   "outputs": [],
   "source": [
    "dictionary = CellComplex.Decompose(building)\n",
    "bhf = dictionary['bottomHorizontalFaces']\n",
    "shell = Shell.ByFaces(bhf)\n",
    "shell = Topology.TransferDictionariesBySelectors(shell, selectors=selectors, tranFaces=True)\n",
    "edges = Topology.Edges(building)\n",
    "for door in doors:\n",
    "    edges += Topology.Edges(door)"
   ]
  },
  {
   "cell_type": "markdown",
   "id": "03db8cea",
   "metadata": {},
   "source": [
    "## Hover over each room floor to see its PageRank value"
   ]
  },
  {
   "cell_type": "code",
   "execution_count": 11,
   "id": "2363f9b4",
   "metadata": {},
   "outputs": [],
   "source": [
    "Topology.Show(shell, edges,renderer=\"browser\",faceLabelKey=\"pageRank\", faceGroupKey=\"pageRank\", faceGroups=page_rank, colorScale=\"jet\", faceOpacity=1, backgroundColor=\"white\")"
   ]
  },
  {
   "cell_type": "code",
   "execution_count": null,
   "id": "d42224a7",
   "metadata": {},
   "outputs": [],
   "source": []
  }
 ],
 "metadata": {
  "kernelspec": {
   "display_name": "Python 3 (ipykernel)",
   "language": "python",
   "name": "python3"
  },
  "language_info": {
   "codemirror_mode": {
    "name": "ipython",
    "version": 3
   },
   "file_extension": ".py",
   "mimetype": "text/x-python",
   "name": "python",
   "nbconvert_exporter": "python",
   "pygments_lexer": "ipython3",
   "version": "3.11.8"
  }
 },
 "nbformat": 4,
 "nbformat_minor": 5
}
