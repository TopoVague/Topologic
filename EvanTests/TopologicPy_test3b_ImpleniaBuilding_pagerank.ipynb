{
 "cells": [
  {
   "cell_type": "code",
   "execution_count": 50,
   "id": "9824430e-b6fb-4859-9671-4e5d2448e407",
   "metadata": {},
   "outputs": [
    {
     "name": "stdout",
     "output_type": "stream",
     "text": [
      "successfully imported libraries\n",
      "the current version of topologic is: 0.5.2\n"
     ]
    }
   ],
   "source": [
    "import  topologicpy \n",
    "from topologicpy.Vertex import Vertex\n",
    "from topologicpy.Edge import Edge\n",
    "from topologicpy.Wire import Wire\n",
    "from topologicpy.Face import Face\n",
    "from topologicpy.Shell import Shell\n",
    "from topologicpy.Cell import Cell\n",
    "from topologicpy.CellComplex import CellComplex\n",
    "from topologicpy.Cluster import Cluster\n",
    "from topologicpy.Topology import Topology\n",
    "from topologicpy.Dictionary import Dictionary\n",
    "from topologicpy.Graph import Graph\n",
    "from topologicpy.Plotly import Plotly\n",
    "\n",
    "print(\"successfully imported libraries\")\n",
    "print(\"the current version of topologic is: \" + topologicpy.__version__)"
   ]
  },
  {
   "cell_type": "markdown",
   "id": "33724ca9-dc82-47cd-8246-0e2b34b85e6d",
   "metadata": {},
   "source": [
    "## Define basic parameters"
   ]
  },
  {
   "cell_type": "code",
   "execution_count": 51,
   "id": "64ddf956-1dd7-4f83-b844-60aa8d5b49b7",
   "metadata": {},
   "outputs": [],
   "source": [
    "#define 3dmodule\n",
    "moduleDepth= 7.5\n",
    "moduleWidth= 2.9\n",
    "moduleHeight= 3\n",
    "\n",
    "#define circulation core dimensions\n",
    "coreWidth=3\n",
    "coreDepth=10\n",
    "coreHeight=3\n",
    "\n",
    "#define apartment sizes\n",
    "aptTyp_A1_Length = 9.5\n",
    "aptTyp_A1_Depth = moduleDepth\n",
    "\n",
    "aptTyp_A2_Length = 10.5\n",
    "aptTyp_A2_Depth = moduleDepth\n",
    "\n",
    "aptTyp_A3_Length = 11.5\n",
    "aptTyp_A3_Depth = moduleDepth\n",
    "\n",
    "aptTyp_A4_Length = 18.0\n",
    "aptTyp_A4_Depth = moduleDepth"
   ]
  },
  {
   "cell_type": "markdown",
   "id": "3660b26e-631d-485c-a1ed-8c99e72d07b3",
   "metadata": {},
   "source": [
    "## Create the basic building elements"
   ]
  },
  {
   "cell_type": "code",
   "execution_count": 52,
   "id": "49086ee0-80e4-4674-8894-7c0d44f95178",
   "metadata": {},
   "outputs": [],
   "source": [
    "#create apartments\n",
    "apt1 = Cell.Prism(origin=Vertex.ByCoordinates(0,0,0), width=aptTyp_A1_Depth, length=aptTyp_A1_Length, height=moduleHeight, placement=\"lowerleft\")\n",
    "apt2 = Cell.Prism(origin=Vertex.ByCoordinates(-moduleDepth,0,0), width=aptTyp_A1_Depth, length=aptTyp_A1_Length, height=moduleHeight, placement=\"lowerleft\")\n",
    "apt3 = Cell.Prism(origin=Vertex.ByCoordinates(0,9.5,0), width=aptTyp_A3_Depth, length=aptTyp_A3_Length, height=moduleHeight, placement=\"lowerleft\")\n",
    "apt4 = Cell.Prism(origin=Vertex.ByCoordinates(-moduleDepth,9.5,0), width=aptTyp_A3_Depth, length=aptTyp_A3_Length, height=moduleHeight, placement=\"lowerleft\")\n",
    "apt5= Cell.Prism(origin=Vertex.ByCoordinates(0,21,0), width=aptTyp_A2_Depth, length=aptTyp_A2_Length, height=moduleHeight, placement=\"lowerleft\")\n",
    "apt6 = Cell.Prism(origin=Vertex.ByCoordinates(-moduleDepth,21,0), width=aptTyp_A2_Depth, length=aptTyp_A2_Length, height=moduleHeight, placement=\"lowerleft\")\n",
    "apt7= Cell.Prism(origin=Vertex.ByCoordinates(0,31.5,0), width=aptTyp_A4_Depth, length=aptTyp_A4_Length, height=moduleHeight, placement=\"lowerleft\")\n",
    "apt8= Cell.Prism(origin=Vertex.ByCoordinates(-moduleDepth,31.5,0), width=aptTyp_A4_Depth, length=aptTyp_A4_Length, height=moduleHeight, placement=\"lowerleft\")\n",
    "\n",
    "\n",
    "#add create doors\n",
    "doorA = Face.Rectangle(width=0.9, length=2.1, placement=\"lowerleft\")\n",
    "doorA = Topology.Rotate(doorA, x=1, y=0, z=0, degree=90)\n",
    "doorA = Topology.Translate(doorA, x=0, y=-coreWidth/2, z=0.05)\n",
    "doorB = Face.Rectangle(width=0.9, length=2.1, placement=\"lowerleft\")\n",
    "doorB = Topology.Rotate(doorB, x=1, y=0, z=0, degree=90)\n",
    "doorB = Topology.Translate(doorB, x=0, y=0, z=0.05)\n",
    "#doorA = Topology.Rotate(doorA, x=0, y=0, z=1, degree=90)\n",
    "\n",
    "#add doors\n",
    "d1 = Topology.Place(doorA, originA=Vertex.Origin(), originB=Vertex.ByCoordinates(moduleDepth/3,aptTyp_A1_Length,0))\n",
    "d2 = Topology.Place(doorA, originA=Vertex.Origin(), originB=Vertex.ByCoordinates(-moduleDepth/3,aptTyp_A1_Length,0))\n",
    "d3 = Topology.Place(doorA, originA=Vertex.Origin(), originB=Vertex.ByCoordinates(moduleDepth/3,aptTyp_A1_Length+coreWidth,0))\n",
    "d4 = Topology.Place(doorA, originA=Vertex.Origin(), originB=Vertex.ByCoordinates(-moduleDepth/3,aptTyp_A1_Length+coreWidth,0))\n",
    "d5 = Topology.Place(doorB, originA=Vertex.Origin(), originB=Vertex.ByCoordinates(moduleDepth/3,aptTyp_A1_Length+aptTyp_A2_Length+aptTyp_A3_Length-coreWidth,0))\n",
    "d6 = Topology.Place(doorB, originA=Vertex.Origin(), originB=Vertex.ByCoordinates(-moduleDepth/3,aptTyp_A1_Length+aptTyp_A2_Length+aptTyp_A3_Length-coreWidth,0))\n",
    "d7 = Topology.Place(doorB, originA=Vertex.Origin(), originB=Vertex.ByCoordinates(moduleDepth/3,aptTyp_A1_Length+aptTyp_A2_Length+aptTyp_A3_Length,0))\n",
    "d8 = Topology.Place(doorB, originA=Vertex.Origin(), originB=Vertex.ByCoordinates(-moduleDepth/3,aptTyp_A1_Length+aptTyp_A2_Length+aptTyp_A3_Length,0))\n",
    "\n",
    "#Create circulation cores\n",
    "core1 = Cell.Prism(width=coreWidth, length=coreDepth, height=coreHeight, placement=\"bottom\")\n",
    "core2 = Cell.Prism(width=coreWidth, length=coreDepth, height=coreHeight, placement=\"bottom\")\n",
    "\n",
    "#Create a floorplan with apartments\n",
    "apts = [apt1,apt2,apt3,apt4,apt5,apt6,apt7,apt8]\n",
    "building = CellComplex.ByCells(apts)\n",
    "doors = [d1,d2,d3,d4,d5,d6,d7,d8]\n",
    "#building = CellComplex.ByCells([apt1,apt2])\n",
    "\n",
    "\n",
    "#place cores\n",
    "core1 = Cell.Prism(width=coreWidth, length=coreDepth, height=coreHeight, placement=\"bottom\")\n",
    "core1 = Topology.Rotate(core1, x=0, y=0, z=1, degree=90)\n",
    "core1 = Topology.Translate(core1, 0, 9.5, 0)\n",
    "building = Topology.Impose(building,core1)\n",
    "\n",
    "#core1a = Cell.Prism(width=coreWidth, length=coreDepth, height=coreHeight, placement=\"bottom\")\n",
    "#core1a = Topology.Rotate(core1a, x=0, y=0, z=1, degree=90)\n",
    "#core1a = Topology.Translate(core1a, 0, 9.5, coreHeight)\n",
    "\n",
    "#building = Topology.Impose(building,core1a)\n",
    "core2 = Topology.Rotate(core2, x=0, y=0, z=1, degree=90)\n",
    "core2 = Topology.Translate(core2, 0, 30, 0)\n",
    "building = Topology.Impose(building,core2)\n",
    "\n",
    "\n",
    "#Add apertures (I GET AN ERROR HERE)\n",
    "building = Topology.AddApertures(building, doors, subTopologyType=\"face\", exclusive=True, tolerance = 0.1)\n",
    "#Show greometry\n",
    "Topology.Show(building,doors, renderer='browser', faceColor='grey', showVertices=True)\n",
    "\n"
   ]
  },
  {
   "cell_type": "code",
   "execution_count": 53,
   "id": "371b503c-789c-4742-b2fd-3d333c3b2186",
   "metadata": {},
   "outputs": [],
   "source": [
    "g = Graph.ByTopology(building, direct=False, directApertures=True)\n",
    "g_top = Graph.Topology(g)\n",
    "data01 = Plotly.DataByTopology(g_top, vertexSize=5, edgeWidth=3, edgeColor=\"red\")\n",
    "data02 = Plotly.DataByTopology(building)\n",
    "data03 = Plotly.DataByTopology(Cluster.ByTopologies(doors))\n",
    "figure = Plotly.FigureByData(data01+data02+data03)\n",
    "Plotly.Show(figure, renderer='offline')"
   ]
  },
  {
   "cell_type": "markdown",
   "id": "5b643257-415a-4cd1-b9af-97bb20c691d2",
   "metadata": {},
   "source": [
    "## Calculate the PageRank of the created graph. Assume it is un-directed (bidirectional edges)"
   ]
  },
  {
   "cell_type": "code",
   "execution_count": 54,
   "id": "16552d01-f051-491c-822f-07587e946fb6",
   "metadata": {},
   "outputs": [
    {
     "name": "stdout",
     "output_type": "stream",
     "text": [
      "[0.07, 0.07, 0.07, 0.07, 0.07, 0.24, 0.07, 0.07, 0.19, 0.01]\n"
     ]
    }
   ],
   "source": [
    "page_rank = Graph.PageRank(g, directed=False, alpha=0.85, maxIterations=100, normalize=False)\n",
    "page_rank = [round(x, 2) for x in page_rank]\n",
    "print(page_rank)"
   ]
  },
  {
   "cell_type": "code",
   "execution_count": 55,
   "id": "2504e3e4-f1ed-4423-a2f5-26b7b183b274",
   "metadata": {},
   "outputs": [
    {
     "name": "stdout",
     "output_type": "stream",
     "text": [
      "[3.897059, 4.279412, 1.5] 0.07\n",
      "[-4.044118, 25.367647, 1.5] 0.07\n",
      "[-3.897059, 4.279412, 1.5] 0.07\n",
      "[4.044118, 25.367647, 1.5] 0.07\n",
      "[-3.869048, 15.72619, 1.5] 0.07\n",
      "[-0.0, 9.5, 1.5] 0.24\n",
      "[3.75, 40.5, 1.5] 0.07\n",
      "[3.869048, 15.72619, 1.5] 0.07\n",
      "[-0.0, 30.0, 1.5] 0.19\n",
      "[-3.75, 40.5, 1.5] 0.01\n"
     ]
    }
   ],
   "source": [
    "vertices = Graph.Vertices(g)\n",
    "selectors = []\n",
    "for i, v in enumerate(vertices):\n",
    "    d = Dictionary.ByKeyValue(\"pageRank\", page_rank[i])\n",
    "    s = Vertex.ByCoordinates(Vertex.X(v), Vertex.Y(v), 0) \n",
    "    #Move to the ground to apply to room floor at z=0\n",
    "    s = Topology.SetDictionary(s, d)\n",
    "    selectors.append(s)\n",
    "    print(Vertex.Coordinates(v), page_rank[i])"
   ]
  },
  {
   "cell_type": "markdown",
   "id": "3cee7ecd-9337-4cea-9435-c42743a57456",
   "metadata": {},
   "source": [
    "## Transfer the PageRank values to vertices to apply to the rooms for colour-coding"
   ]
  },
  {
   "cell_type": "code",
   "execution_count": 56,
   "id": "ed5686c1-a760-4961-82d9-70b08b93c764",
   "metadata": {},
   "outputs": [],
   "source": [
    "dictionary = CellComplex.Decompose(building)\n",
    "bhf = dictionary['bottomHorizontalFaces']\n",
    "shell = Shell.ByFaces(bhf)\n",
    "shell = Topology.TransferDictionariesBySelectors(shell, selectors=selectors, tranFaces=True)\n",
    "edges = Topology.Edges(building)\n",
    "for door in doors:\n",
    "    edges += Topology.Edges(door)"
   ]
  },
  {
   "cell_type": "code",
   "execution_count": 57,
   "id": "4a657374-2501-4852-94ef-a42f1b5a9474",
   "metadata": {},
   "outputs": [],
   "source": [
    "## Get the floor of each room and transfer the dictionaries."
   ]
  },
  {
   "cell_type": "code",
   "execution_count": 58,
   "id": "aa65b9d8-1403-4d18-89a0-a3195ffb7cf8",
   "metadata": {},
   "outputs": [
    {
     "name": "stdout",
     "output_type": "stream",
     "text": [
      "Topology.SetDictionary - Warning: the input dictionary parameter is empty. Returning original input.\n",
      "Topology.SetDictionary - Warning: the input dictionary parameter is empty. Returning original input.\n",
      "Topology.SetDictionary - Warning: the input dictionary parameter is empty. Returning original input.\n",
      "Topology.SetDictionary - Warning: the input dictionary parameter is empty. Returning original input.\n",
      "Topology.SetDictionary - Warning: the input dictionary parameter is empty. Returning original input.\n",
      "Topology.SetDictionary - Warning: the input dictionary parameter is empty. Returning original input.\n",
      "Topology.SetDictionary - Warning: the input dictionary parameter is empty. Returning original input.\n",
      "Topology.SetDictionary - Warning: the input dictionary parameter is empty. Returning original input.\n",
      "Topology.SetDictionary - Warning: the input dictionary parameter is empty. Returning original input.\n",
      "Topology.SetDictionary - Warning: the input dictionary parameter is empty. Returning original input.\n",
      "Topology.SetDictionary - Warning: the input dictionary parameter is empty. Returning original input.\n",
      "Topology.SetDictionary - Warning: the input dictionary parameter is empty. Returning original input.\n"
     ]
    }
   ],
   "source": [
    "Topology.Show(shell, edges,renderer=\"browser\",faceLabelKey=\"pageRank\", faceGroupKey=\"pageRank\", faceGroups=page_rank, colorScale=\"jet\", faceOpacity=.5, backgroundColor=\"white\")"
   ]
  },
  {
   "cell_type": "code",
   "execution_count": null,
   "id": "92b711a4-7879-43a2-a5c9-a46a91a6849a",
   "metadata": {},
   "outputs": [],
   "source": []
  }
 ],
 "metadata": {
  "kernelspec": {
   "display_name": "Python 3 (ipykernel)",
   "language": "python",
   "name": "python3"
  },
  "language_info": {
   "codemirror_mode": {
    "name": "ipython",
    "version": 3
   },
   "file_extension": ".py",
   "mimetype": "text/x-python",
   "name": "python",
   "nbconvert_exporter": "python",
   "pygments_lexer": "ipython3",
   "version": "3.11.8"
  }
 },
 "nbformat": 4,
 "nbformat_minor": 5
}
